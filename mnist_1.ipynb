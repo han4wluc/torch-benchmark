{
 "cells": [
  {
   "cell_type": "markdown",
   "metadata": {},
   "source": [
    "https://deepmlblog.wordpress.com/2016/01/05/residual-networks-in-torch-mnist/"
   ]
  },
  {
   "cell_type": "code",
   "execution_count": 39,
   "metadata": {
    "collapsed": false
   },
   "outputs": [],
   "source": [
    "require 'torch'\n",
    "require 'nn'\n",
    "require 'optim'\n",
    "require 'image'\n",
    "torch.manualSeed(1)\n",
    "\n",
    "function reload(name)\n",
    "    package.loaded[name] = nil\n",
    "    return require(name)\n",
    "end\n",
    "utils = reload('./utils')\n",
    "models = reload('./models')\n",
    "Logger = reload('./logger')\n"
   ]
  },
  {
   "cell_type": "code",
   "execution_count": 41,
   "metadata": {
    "collapsed": false
   },
   "outputs": [],
   "source": [
    "\n",
    "train_data, train_label,\n",
    "    validation_data, validation_label = utils.load_data()\n",
    "\n",
    "train_data = train_data[{{1,1000}}]\n",
    "train_label = train_label[{{1, 1000}}]\n"
   ]
  },
  {
   "cell_type": "code",
   "execution_count": 135,
   "metadata": {
    "collapsed": false
   },
   "outputs": [
    {
     "data": {
      "text/plain": [
       "train\t\n",
       "-0.0078593129846774\t\n"
      ]
     },
     "execution_count": 135,
     "metadata": {},
     "output_type": "execute_result"
    },
    {
     "data": {
      "text/plain": [
       "0.99036449947161\t\n"
      ]
     },
     "execution_count": 135,
     "metadata": {},
     "output_type": "execute_result"
    },
    {
     "data": {
      "text/plain": [
       "-0.42407388981865\t\n",
       "2.8215433152638\t\n",
       "validation\t\n"
      ]
     },
     "execution_count": 135,
     "metadata": {},
     "output_type": "execute_result"
    },
    {
     "data": {
      "text/plain": [
       "-0.0048816247909239\t\n"
      ]
     },
     "execution_count": 135,
     "metadata": {},
     "output_type": "execute_result"
    },
    {
     "data": {
      "text/plain": [
       "0.99368015338313\t\n"
      ]
     },
     "execution_count": 135,
     "metadata": {},
     "output_type": "execute_result"
    },
    {
     "data": {
      "text/plain": [
       "-0.42407388981865\t\n"
      ]
     },
     "execution_count": 135,
     "metadata": {},
     "output_type": "execute_result"
    },
    {
     "data": {
      "text/plain": [
       "2.8215433152638\t\n"
      ]
     },
     "execution_count": 135,
     "metadata": {},
     "output_type": "execute_result"
    }
   ],
   "source": [
    "print('train')\n",
    "print(train_data:mean())\n",
    "print(train_data:std())\n",
    "print(train_data:min())\n",
    "print(train_data:max())\n",
    "print('validation')\n",
    "print(validation_data:mean())\n",
    "print(validation_data:std())\n",
    "print(validation_data:min())\n",
    "print(validation_data:max())\n"
   ]
  },
  {
   "cell_type": "code",
   "execution_count": null,
   "metadata": {
    "collapsed": true
   },
   "outputs": [],
   "source": []
  },
  {
   "cell_type": "code",
   "execution_count": 42,
   "metadata": {
    "collapsed": false
   },
   "outputs": [],
   "source": [
    "\n",
    "SEED = 1\n",
    "MODEL_NAME = 'mlp_3'\n",
    "TITLE = 'mnist_' .. MODEL_NAME\n",
    "-- VARIANT = 1\n",
    "-- LOGPATH = './results/' .. TITLE .. '/' .. VARIANT\n",
    "EPOCHS = 10\n",
    "\n",
    "p1 = {\n",
    "   learningRate = 1e-1,\n",
    "   learningRateDecay = 0,\n",
    "   weightDecay = 0,\n",
    "   momentum = 0\n",
    "}\n",
    "\n",
    "p2 = {\n",
    "   learningRate = 1e-1,\n",
    "   learningRateDecay = 0,\n",
    "   weightDecay = 0.2,\n",
    "   momentum = 0\n",
    "}\n",
    "\n",
    "p3 = {\n",
    "   learningRate = 1e-2,\n",
    "   learningRateDecay = 0,\n",
    "   weightDecay = 0,\n",
    "   momentum = 0\n",
    "}\n",
    "\n",
    "p4 = {\n",
    "   learningRate = 1e-2,\n",
    "   learningRateDecay = 0,\n",
    "   weightDecay = 0.2,\n",
    "   momentum = 0\n",
    "}\n",
    "\n",
    "p5 = {\n",
    "   learningRate = 1e-3,\n",
    "   learningRateDecay = 0,\n",
    "   weightDecay = 0,\n",
    "   momentum = 0\n",
    "}\n",
    "\n",
    "p6 = {\n",
    "   learningRate = 1e-3,\n",
    "   learningRateDecay = 0,\n",
    "   weightDecay = 0.2,\n",
    "   momentum = 0\n",
    "}\n",
    "\n",
    "p7 = {\n",
    "   learningRate = 1e-4,\n",
    "   learningRateDecay = 0,\n",
    "   weightDecay = 0,\n",
    "   momentum = 0\n",
    "}\n",
    "\n",
    "p8 = {\n",
    "   learningRate = 1e-4,\n",
    "   learningRateDecay = 0,\n",
    "   weightDecay = 0.2,\n",
    "   momentum = 0\n",
    "}\n",
    "\n",
    "sgd_params = {p1, p2, p3, p4, p5, p6, p7, p8}\n",
    "\n",
    "batch_params = {\n",
    "    n_of_batches = 100\n",
    "}\n",
    "\n",
    "-- for i=1,1 do\n",
    "for i=1,#sgd_params do\n",
    "    VARIANT = i\n",
    "    LOGPATH = './results/' .. TITLE .. '/' .. VARIANT\n",
    "    start_training(sgd_params[i], batch_params)\n",
    "end\n"
   ]
  },
  {
   "cell_type": "code",
   "execution_count": 30,
   "metadata": {
    "collapsed": false
   },
   "outputs": [],
   "source": [
    "\n",
    "function start_training(sgd_params, batch_params)\n",
    "    \n",
    "    torch.manualSeed(SEED)\n",
    "    \n",
    "    local n_of_batches = batch_params.n_of_batches\n",
    "    \n",
    "    model = models[MODEL_NAME]()\n",
    "    criterion = nn.ClassNLLCriterion()\n",
    "\n",
    "    x, dl_params = model:getParameters()\n",
    "\n",
    "    info_log = Logger(\n",
    "        LOGPATH, \n",
    "        {\n",
    "            general_info = {\n",
    "                title = TITLE,\n",
    "                description = '',\n",
    "                seed = SEED,\n",
    "                model = tostring(model),\n",
    "                criterion = tostring(criterion),\n",
    "            },\n",
    "            data_size = {\n",
    "                train_data = torch.totable(train_data:size()),\n",
    "                train_label = torch.totable(train_label:size()),\n",
    "                validation_data = torch.totable(validation_data:size()),\n",
    "                validation_label = torch.totable(validation_label:size()),\n",
    "            },\n",
    "            sgd_params = sgd_params\n",
    "        })\n",
    "    info_log:write()\n",
    "\n",
    "    logger = optim.Logger(LOGPATH .. '/accuracy.log')\n",
    "    logger:setNames{'train_loss', 'validation_loss'}\n",
    "\n",
    "    time_start = os.time()\n",
    "    \n",
    "    batch_size = train_data:size()[1] / n_of_batches\n",
    "    \n",
    "    for epoch=1,EPOCHS do\n",
    "        \n",
    "        assert(train_data:mean() > -0.1 and train_data:mean() < 0.1)\n",
    "        assert(validation_data:mean() > -0.1 and validation_data:mean() < 0.1)\n",
    "\n",
    "        train_loss = 0\n",
    "        \n",
    "        for j=1,n_of_batches do\n",
    "            batch_data = utils.get_batch(train_data, j, batch_size)\n",
    "            batch_label = utils.get_batch(train_label, j, batch_size)\n",
    "\n",
    "            sys.tic()\n",
    "            _, fs = optim.sgd(utils.feval,x,sgd_params)\n",
    "            duration = sys.toc()\n",
    "            train_loss = train_loss + fs[1]\n",
    "        end\n",
    "        \n",
    "        train_loss = train_loss/n_of_batches\n",
    "\n",
    "        validation_loss = calc_validation_loss(model, criterion, validation_data, validation_label)\n",
    "        logger:add{train_loss, validation_loss}\n",
    "\n",
    "    end\n",
    "\n",
    "    total_train_time = os.time() - time_start\n",
    "    \n",
    "    train_accuracy = utils.calc_accuracy(model, train_data, train_label)\n",
    "    validation_accuracy = utils.calc_accuracy(model, validation_data, validation_label)\n",
    "    \n",
    "    info_log:write_result({\n",
    "            model_name = MODEL_NAME,\n",
    "            variant = VARIANT,\n",
    "            epochs = EPOCHS,\n",
    "            learningRate = sgd_params.learningRate,\n",
    "            weightDecay = sgd_params.weightDecay,\n",
    "            total_train_time = total_train_time,\n",
    "            train_loss = train_loss,\n",
    "            validation_loss = validation_loss,\n",
    "            train_accuracy = train_accuracy,\n",
    "            validation_accuracy = validation_accuracy,\n",
    "        })\n",
    "--     info_log:write_result(\n",
    "--         total_train_time, train_loss, validation_loss, train_accuracy, validation_accuracy\n",
    "--     )\n",
    "\n",
    "    logger:style{'+-', '+-'}\n",
    "    logger:plot()\n",
    "end\n"
   ]
  },
  {
   "cell_type": "code",
   "execution_count": null,
   "metadata": {
    "collapsed": false
   },
   "outputs": [],
   "source": []
  },
  {
   "cell_type": "code",
   "execution_count": 10,
   "metadata": {
    "collapsed": false
   },
   "outputs": [
    {
     "data": {
      "text/plain": [
       "\n"
      ]
     },
     "execution_count": 10,
     "metadata": {},
     "output_type": "execute_result"
    }
   ],
   "source": [
    "-- tbl = {\n",
    "--     a = 'ss'\n",
    "-- }\n",
    "-- json = require 'json'\n",
    "-- -- decode(tbl)\n",
    "-- print(json)\n"
   ]
  },
  {
   "cell_type": "code",
   "execution_count": 27,
   "metadata": {
    "collapsed": false
   },
   "outputs": [
    {
     "data": {
      "text/plain": [
       "{\"abcd\":\"a\",\"we\":2}\t\n"
      ]
     },
     "execution_count": 27,
     "metadata": {},
     "output_type": "execute_result"
    }
   ],
   "source": [
    "json.encode({abcd='a', we=2}, 2, 2)"
   ]
  },
  {
   "cell_type": "code",
   "execution_count": null,
   "metadata": {
    "collapsed": false
   },
   "outputs": [],
   "source": []
  },
  {
   "cell_type": "code",
   "execution_count": null,
   "metadata": {
    "collapsed": true
   },
   "outputs": [],
   "source": []
  }
 ],
 "metadata": {
  "kernelspec": {
   "display_name": "iTorch",
   "language": "lua",
   "name": "itorch"
  },
  "language_info": {
   "name": "lua",
   "version": "5.1"
  }
 },
 "nbformat": 4,
 "nbformat_minor": 1
}
