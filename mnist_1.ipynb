{
 "cells": [
  {
   "cell_type": "markdown",
   "metadata": {},
   "source": [
    "https://deepmlblog.wordpress.com/2016/01/05/residual-networks-in-torch-mnist/"
   ]
  },
  {
   "cell_type": "code",
   "execution_count": 40,
   "metadata": {
    "collapsed": false
   },
   "outputs": [],
   "source": [
    "require 'torch'\n",
    "require 'nn'\n",
    "require 'optim'\n",
    "require 'image'\n",
    "torch.manualSeed(1)\n",
    "\n",
    "function reload(name)\n",
    "    package.loaded[name] = nil\n",
    "    return require(name)\n",
    "\n",
    "end\n",
    "utils = reload('./utils')\n",
    "models = reload('./models')\n",
    "Logger = reload('./logger')\n",
    "\n",
    "\n",
    "torch.manualSeed(1)"
   ]
  },
  {
   "cell_type": "code",
   "execution_count": 2,
   "metadata": {
    "collapsed": false
   },
   "outputs": [],
   "source": [
    "\n",
    "train_data, train_label,\n",
    "    validation_data, validation_label = utils.load_data()\n",
    "\n",
    "train_data = train_data[{{1,1000}}]\n",
    "train_label = train_label[{{1, 1000}}]\n"
   ]
  },
  {
   "cell_type": "code",
   "execution_count": 42,
   "metadata": {
    "collapsed": false
   },
   "outputs": [],
   "source": [
    "\n",
    "SEED = 1\n",
    "TITLE = 'mnist_mlp'\n",
    "LOGPATH = './results/' .. TITLE\n",
    "EPOCHS = 100\n",
    "\n",
    "torch.manualSeed(SEED)\n",
    "\n",
    "model = models.mlp()\n",
    "criterion = nn.ClassNLLCriterion()\n",
    "\n",
    "sgd_params = {\n",
    "   learningRate = 1e-2,\n",
    "   learningRateDecay = 0,\n",
    "   weightDecay = 0,\n",
    "   momentum = 0\n",
    "}\n",
    "\n",
    "x, dl_params = model:getParameters()\n",
    "\n",
    "info_log = Logger(\n",
    "    LOGPATH, \n",
    "    {\n",
    "        general_info = {\n",
    "            title = TITLE,\n",
    "            description = '',\n",
    "            seed = SEED,\n",
    "            model = tostring(model),\n",
    "            criterion = tostring(criterion),\n",
    "        },\n",
    "        data_size = {\n",
    "            train_data = torch.totable(train_data:size()),\n",
    "            train_label = torch.totable(train_label:size()),\n",
    "            validation_data = torch.totable(validation_data:size()),\n",
    "            validation_label = torch.totable(validation_label:size()),\n",
    "        },\n",
    "        sgd_params = sgd_params\n",
    "    })\n",
    "info_log:write()\n",
    "\n",
    "logger = optim.Logger('./results/mnist_mlp/accuracy.log')\n",
    "logger:setNames{'duration', 'train_loss', 'validation_loss', 'learning_rate'}\n",
    "\n",
    "time_start = os.time()\n",
    "for i=1,EPOCHS do\n",
    "    \n",
    "    batch_data = train_data\n",
    "    batch_label = train_label\n",
    "    \n",
    "    sys.tic()\n",
    "    _, fs = optim.sgd(utils.feval,x,sgd_params)\n",
    "    duration = sys.toc()\n",
    "    local train_loss = fs[1]\n",
    "    \n",
    "    logger:add{duration, train_loss, validation_loss, sgd_params.learningRate}\n",
    "    \n",
    "    validation_loss = calc_validation_loss(model, criterion, validation_data, validation_label)\n",
    "\n",
    "end\n",
    "\n",
    "total_train_time = os.time() - time_start\n",
    "info_log:write_time(total_train_time)\n",
    "\n",
    "logger:style{'+-', '+-', '+-', '+-', '+-'}\n",
    "logger:plot()\n"
   ]
  },
  {
   "cell_type": "code",
   "execution_count": null,
   "metadata": {
    "collapsed": false
   },
   "outputs": [],
   "source": []
  },
  {
   "cell_type": "code",
   "execution_count": null,
   "metadata": {
    "collapsed": false
   },
   "outputs": [],
   "source": []
  },
  {
   "cell_type": "code",
   "execution_count": null,
   "metadata": {
    "collapsed": false
   },
   "outputs": [],
   "source": []
  },
  {
   "cell_type": "code",
   "execution_count": null,
   "metadata": {
    "collapsed": false
   },
   "outputs": [],
   "source": []
  },
  {
   "cell_type": "code",
   "execution_count": null,
   "metadata": {
    "collapsed": false
   },
   "outputs": [],
   "source": []
  },
  {
   "cell_type": "code",
   "execution_count": null,
   "metadata": {
    "collapsed": true
   },
   "outputs": [],
   "source": []
  }
 ],
 "metadata": {
  "kernelspec": {
   "display_name": "iTorch",
   "language": "lua",
   "name": "itorch"
  },
  "language_info": {
   "name": "lua",
   "version": "5.1"
  }
 },
 "nbformat": 4,
 "nbformat_minor": 1
}
